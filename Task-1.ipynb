{
 "cells": [
  {
   "cell_type": "code",
   "execution_count": 15,
   "id": "3e22f16f",
   "metadata": {},
   "outputs": [],
   "source": [
    "import pandas as pd\n",
    "import requests\n",
    "import os"
   ]
  },
  {
   "cell_type": "code",
   "execution_count": 16,
   "id": "fa80088b",
   "metadata": {},
   "outputs": [],
   "source": [
    "# Downloading Company House Data File\n",
    "download_url = \"https://download.companieshouse.gov.uk/en_output.html\"\n",
    "your_download_link = \"https://download.companieshouse.gov.uk/BasicCompanyData-2023-07-01-part7_7.zip\"\n",
    "response = requests.get(your_download_link)"
   ]
  },
  {
   "cell_type": "code",
   "execution_count": 17,
   "id": "a58e5505",
   "metadata": {},
   "outputs": [],
   "source": [
    "# Saving the file locally\n",
    "filename = your_download_link.split('/')[-1]\n",
    "with open(filename, 'wb') as f:\n",
    "    f.write(response.content)"
   ]
  },
  {
   "cell_type": "markdown",
   "id": "d615c00b",
   "metadata": {},
   "source": [
    "## Filtering the data"
   ]
  },
  {
   "cell_type": "code",
   "execution_count": 18,
   "id": "9560c23a",
   "metadata": {},
   "outputs": [],
   "source": [
    "# Filtering the data\n",
    "\n",
    "# Loading the data into a DataFrame using pandas\n",
    "df = pd.read_csv(filename, encoding='utf-8',low_memory=False)\n",
    "\n",
    "filtered_df = df[\n",
    "    (df['CompanyCategory'] == 'Private Limited Company') &\n",
    "    (df['CompanyStatus'] == 'Active') &\n",
    "    (df['Accounts.AccountCategory'].isin(['SMALL', 'MEDIUM']))\n",
    "]\n"
   ]
  },
  {
   "cell_type": "code",
   "execution_count": 19,
   "id": "188d8f0d",
   "metadata": {},
   "outputs": [],
   "source": [
    "# Saving the filtered data to a CSV file\n",
    "\n",
    "output_directory = 'downloads/output'\n",
    "os.makedirs(output_directory, exist_ok=True)  # Create the directory if it doesn't exist\n",
    "\n",
    "output_file = os.path.join(output_directory, 'filtered_data.csv')\n",
    "filtered_df.to_csv(output_file, index=False)"
   ]
  },
  {
   "cell_type": "code",
   "execution_count": null,
   "id": "455ae850",
   "metadata": {},
   "outputs": [],
   "source": []
  }
 ],
 "metadata": {
  "kernelspec": {
   "display_name": "Python 3 (ipykernel)",
   "language": "python",
   "name": "python3"
  },
  "language_info": {
   "codemirror_mode": {
    "name": "ipython",
    "version": 3
   },
   "file_extension": ".py",
   "mimetype": "text/x-python",
   "name": "python",
   "nbconvert_exporter": "python",
   "pygments_lexer": "ipython3",
   "version": "3.9.13"
  }
 },
 "nbformat": 4,
 "nbformat_minor": 5
}
